{
 "cells": [
  {
   "cell_type": "code",
   "execution_count": 1,
   "metadata": {},
   "outputs": [
    {
     "name": "stdout",
     "output_type": "stream",
     "text": [
      "response  Let a be the number of dollars Olivia had before buying the bagels [[var a]]. We have [[eq a = 23]].\n",
      "Let b be the price of one bagel [[var b]]. We have [[eq b = 3]].\n",
      "Let c be the number of bagels Olivia bought [[var c]]. We have [[eq c = 5]].\n",
      "Let d be the total cost of the bagels [[var d]]. We have [[eq d = b * c]].\n",
      "Let e be the amount of money Olivia has left [[var e]]. We have [[eq e = a - d]].\n",
      "The answer is the value of e [[answer e]].\n",
      "re findall ['[[var a]]', '[[eq a = 23]]', '[[var b]]', '[[eq b = 3]]', '[[var c]]', '[[eq c = 5]]', '[[var d]]', '[[eq d = b * c]]', '[[var e]]', '[[eq e = a - d]]', '[[answer e]]']\n",
      "equations  a = 23,  b = 3,  c = 5,  d = b * c,  e = a - d, e = ?\n",
      "equation_list [' a = 23', '  b = 3', '  c = 5', '  d = b * c', '  e = a - d', ' e = ?']\n",
      "[' e ', ' ?']\n",
      "goal_var e\n",
      "sub_eqs after parse a - 23\n",
      "goal_expression_list_sub [a - 23]\n",
      "goal_expression_list_solve [a - 23]\n",
      "goal_expression_list_solve [a - 23]\n",
      "sub_eqs after parse b - 3\n",
      "goal_expression_list_sub [a - 23, b - 3]\n",
      "goal_expression_list_solve [a - 23, b - 3]\n",
      "goal_expression_list_solve [a - 23, b - 3]\n",
      "sub_eqs after parse c - 5\n",
      "goal_expression_list_sub [a - 23, b - 3, c - 5]\n",
      "goal_expression_list_solve [a - 23, b - 3, c - 5]\n",
      "goal_expression_list_solve [a - 23, b - 3, c - 5]\n",
      "sub_eqs after parse -b*c + d\n",
      "goal_expression_list_sub [a - 23, b - 3, c - 5, -b*c + d]\n",
      "goal_expression_list_solve [a - 23, b - 3, c - 5, -b*c + d]\n",
      "goal_expression_list_solve [a - 23, b - 3, c - 5, -b*c + d]\n",
      "sub_eqs after parse -a + d + e\n",
      "goal_expression_list_sub [a - 23, b - 3, c - 5, -b*c + d, -a + d + e]\n",
      "goal_expression_list_solve [a - 23, b - 3, c - 5, -b*c + d, -a + d + e]\n",
      "goal_expression_list_solve [a - 23, b - 3, c - 5, -b*c + d, -a + d + e]\n",
      "8.0\n"
     ]
    }
   ],
   "source": [
    "from utils_solver import *\n",
    "from declarative_three_shot import DECLARATIVE_THREE_SHOT_AND_PRINCIPLES\n",
    "\n",
    "question = 'Q: Olivia has $23. She bought five bagels for $3 each. How much money does she have left?'\n",
    "eq_list = get_declarative_equations(model=\"mistralai/Mixtral-8x7B-Instruct-v0.1\", question=question, prompt=DECLARATIVE_THREE_SHOT_AND_PRINCIPLES, max_tokens=600, stop_token='\\n\\n\\n', temperature=0)\n",
    "answer = get_final_using_sympy(eq_list)\n",
    "print(answer)"
   ]
  },
  {
   "cell_type": "code",
   "execution_count": 8,
   "metadata": {},
   "outputs": [
    {
     "name": "stdout",
     "output_type": "stream",
     "text": [
      " a = 23,  b = 3,  c = 5,  d = b * c,  e = a - d, e = ?\n"
     ]
    }
   ],
   "source": [
    "print(eq_list)"
   ]
  },
  {
   "cell_type": "code",
   "execution_count": 1,
   "metadata": {},
   "outputs": [],
   "source": [
    "eq_list = \"a = 23,  b = 3,  c = 5,  d = b * c,  e = a - d, e = ?\"\n",
    "\n"
   ]
  },
  {
   "cell_type": "code",
   "execution_count": 2,
   "metadata": {},
   "outputs": [
    {
     "name": "stdout",
     "output_type": "stream",
     "text": [
      "equations a = 23,  b = 3,  c = 5,  d = b * c,  e = a - d, e = ?\n",
      "equation_list ['a = 23', '  b = 3', '  c = 5', '  d = b * c', '  e = a - d', ' e = ?']\n",
      "[' e ', ' ?']\n",
      "goal_var e\n",
      "sub_eqs after parse a - 23\n",
      "goal_expression_list_sub [a - 23]\n",
      "goal_expression_list_solve [a - 23]\n",
      "goal_expression_list_solve [a - 23]\n",
      "sub_eqs after parse b - 3\n",
      "goal_expression_list_sub [a - 23, b - 3]\n",
      "goal_expression_list_solve [a - 23, b - 3]\n",
      "goal_expression_list_solve [a - 23, b - 3]\n",
      "sub_eqs after parse c - 5\n",
      "goal_expression_list_sub [a - 23, b - 3, c - 5]\n",
      "goal_expression_list_solve [a - 23, b - 3, c - 5]\n",
      "goal_expression_list_solve [a - 23, b - 3, c - 5]\n",
      "sub_eqs after parse -b*c + d\n",
      "goal_expression_list_sub [a - 23, b - 3, c - 5, -b*c + d]\n",
      "goal_expression_list_solve [a - 23, b - 3, c - 5, -b*c + d]\n",
      "goal_expression_list_solve [a - 23, b - 3, c - 5, -b*c + d]\n",
      "sub_eqs after parse -a + d + e\n",
      "goal_expression_list_sub [a - 23, b - 3, c - 5, -b*c + d, -a + d + e]\n",
      "goal_expression_list_solve [a - 23, b - 3, c - 5, -b*c + d, -a + d + e]\n",
      "goal_expression_list_solve [a - 23, b - 3, c - 5, -b*c + d, -a + d + e]\n",
      "8.0\n"
     ]
    }
   ],
   "source": [
    "from utils_solver import *\n",
    "from declarative_three_shot import DECLARATIVE_THREE_SHOT_AND_PRINCIPLES\n",
    "\n",
    "question = 'Q: Olivia has $23. She bought five bagels for $3 each. How much money does she have left?'\n",
    "# eq_list = get_declarative_equations(model=\"mistralai/Mixtral-8x7B-Instruct-v0.1\", question=question, prompt=DECLARATIVE_THREE_SHOT_AND_PRINCIPLES, max_tokens=600, stop_token='\\n\\n\\n', temperature=0)\n",
    "answer = get_final_using_sympy(eq_list)\n",
    "print(answer)"
   ]
  },
  {
   "cell_type": "code",
   "execution_count": 1,
   "metadata": {},
   "outputs": [
    {
     "name": "stdout",
     "output_type": "stream",
     "text": [
      "response  [[eq 72 = -25*n + n]]\n",
      "[[var n]]\n",
      "\n",
      "To solve for n, we first simplify the equation by combining like terms on the right side:\n",
      "\n",
      "72 = -24*n\n",
      "\n",
      "Next, we divide both sides of the equation by -24 to isolate n:\n",
      "\n",
      "n = 72 / -24\n",
      "n = -3\n",
      "\n",
      "So, the solution to the equation 72 = -25*n + n is n = -3.\n",
      "re findall ['[[eq 72 = -25*n + n]]', '[[var n]]']\n",
      " 72 = -25*n + n\n"
     ]
    }
   ],
   "source": [
    "from declarative_three_shot import THREE_SHOT_PYTHON_CODE\n",
    "from utils_solver import *\n",
    "eq_list = get_declarative_equations()\n",
    "print(eq_list)"
   ]
  },
  {
   "cell_type": "code",
   "execution_count": 2,
   "metadata": {},
   "outputs": [],
   "source": [
    "from declarative_three_shot import THREE_SHOT_PYTHON_CODE\n",
    "from utils_solver import *\n",
    "question = 'Solve 72 = -25*n + n for n.'\n",
    "response = get_equation_from_prompt(model=\"mistralai/Mixtral-8x7B-Instruct-v0.1\", question=question, prompt=THREE_SHOT_PYTHON_CODE, max_tokens=600, stop_token='\\n\\n\\n', temperature=0)"
   ]
  },
  {
   "cell_type": "code",
   "execution_count": 3,
   "metadata": {},
   "outputs": [
    {
     "name": "stdout",
     "output_type": "stream",
     "text": [
      " [[eq 72 = -25*n + n]]\n",
      "[[var n]]\n",
      "\n",
      "To solve for n, we first simplify the equation by combining like terms on the right side:\n",
      "\n",
      "72 = -24*n\n",
      "\n",
      "Now, we can solve for n by dividing both sides of the equation by -24:\n",
      "\n",
      "n = 72 / -24\n",
      "n = -3\n"
     ]
    }
   ],
   "source": [
    "print(response)"
   ]
  },
  {
   "cell_type": "code",
   "execution_count": 14,
   "metadata": {},
   "outputs": [
    {
     "name": "stdout",
     "output_type": "stream",
     "text": [
      "Elements inside [[]]: ['eq 72 = -25*n + n', 'var n']\n"
     ]
    }
   ],
   "source": [
    "matches = re.findall(r'\\[\\[(.*?)\\]\\]', response)\n",
    "\n",
    "# Print the matches\n",
    "print(\"Elements inside [[]]:\", matches)"
   ]
  },
  {
   "cell_type": "code",
   "execution_count": 16,
   "metadata": {},
   "outputs": [
    {
     "data": {
      "text/plain": [
       "'var n'"
      ]
     },
     "execution_count": 16,
     "metadata": {},
     "output_type": "execute_result"
    }
   ],
   "source": [
    "matches[1] "
   ]
  },
  {
   "cell_type": "code",
   "execution_count": 9,
   "metadata": {},
   "outputs": [
    {
     "name": "stdout",
     "output_type": "stream",
     "text": [
      "-25*n + n\n",
      "['eq 72 ', ' -25*n + n']\n",
      "eq 72 = -25*n + n\n"
     ]
    }
   ],
   "source": [
    "equation = matches[0]  # First element is the equation\n",
    "eq_parts = equation.split('=')\n",
    "expression = eq_parts[1].strip() \n",
    "print(expression)\n",
    "print(eq_parts)\n",
    "print(equation)"
   ]
  },
  {
   "cell_type": "code",
   "execution_count": 33,
   "metadata": {},
   "outputs": [
    {
     "name": "stdout",
     "output_type": "stream",
     "text": [
      "eq 72 \n",
      " 72 \n"
     ]
    }
   ],
   "source": [
    "print(eq_parts[0])\n",
    "eq_parts[0] = eq_parts[0].replace('eq', '')\n",
    "print(eq_parts[0])"
   ]
  },
  {
   "cell_type": "code",
   "execution_count": 39,
   "metadata": {},
   "outputs": [
    {
     "name": "stdout",
     "output_type": "stream",
     "text": [
      " [[eq 72 = -25*n + n]]\n",
      "[[var n]]\n",
      "\n",
      "To solve for n, we first simplify the equation by combining like terms on the right side:\n",
      "\n",
      "72 = -24*n\n",
      "\n",
      "Now, we can solve for n by dividing both sides of the equation by -24:\n",
      "\n",
      "n = 72 / -24\n",
      "n = -3\n"
     ]
    }
   ],
   "source": [
    "print(response)"
   ]
  },
  {
   "cell_type": "code",
   "execution_count": 42,
   "metadata": {},
   "outputs": [
    {
     "name": "stdout",
     "output_type": "stream",
     "text": [
      "72 -25*n + n n\n"
     ]
    },
    {
     "data": {
      "text/plain": [
       "[-3]"
      ]
     },
     "execution_count": 42,
     "metadata": {},
     "output_type": "execute_result"
    }
   ],
   "source": [
    "import sympy as sp\n",
    "def extract_equation_symbols_from_response(response):\n",
    "    matches = re.findall(r'\\[\\[(.*?)\\]\\]', response)\n",
    "    equation = matches[0]  # First element is the equation\n",
    "    symbol_part = matches[1]  # Second element is the symbol\n",
    "    left, right = extract_equation(equation)\n",
    "\n",
    "    symbol = extract_symbol(symbol_part)\n",
    "    return left, right, symbol\n",
    "\n",
    "def extract_symbol(symbol_part):\n",
    "    return symbol_part.split()[-1]\n",
    "\n",
    "def extract_equation(equation):\n",
    "    eq_parts = equation.split('=')\n",
    "    if 'eq' in eq_parts[0]:\n",
    "        left = eq_parts[0].replace('eq', '').strip()\n",
    "    else:\n",
    "        return \"invalid equation\"\n",
    "    right = eq_parts[1].strip()\n",
    "    return left, right\n",
    "\n",
    "def solve_equation(equation):\n",
    "    if extract_equation_symbols_from_response == \"invalid equation\":\n",
    "        return \"invalid equation\"\n",
    "    else: \n",
    "        left, right, symbol = extract_equation_symbols_from_response(response)\n",
    "    print(left, right, symbol)\n",
    "    left = sp.sympify(left)\n",
    "    right = sp.sympify(right)\n",
    "    eq = sp.Eq(left, right)\n",
    "    return sp.solve(eq, symbol)\n",
    "    \n",
    "solve_equation(response)"
   ]
  }
 ],
 "metadata": {
  "kernelspec": {
   "display_name": "torch_tf",
   "language": "python",
   "name": "python3"
  },
  "language_info": {
   "codemirror_mode": {
    "name": "ipython",
    "version": 3
   },
   "file_extension": ".py",
   "mimetype": "text/x-python",
   "name": "python",
   "nbconvert_exporter": "python",
   "pygments_lexer": "ipython3",
   "version": "3.9.18"
  }
 },
 "nbformat": 4,
 "nbformat_minor": 2
}
